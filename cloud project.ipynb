{
 "cells": [
  {
   "cell_type": "code",
   "execution_count": 123,
   "id": "d27b645e",
   "metadata": {},
   "outputs": [
    {
     "name": "stdout",
     "output_type": "stream",
     "text": [
      "<Response [200]>\n"
     ]
    }
   ],
   "source": [
    "import requests\n",
    "import pandas as pd\n",
    "import datetime\n",
    "\"\"\"\n",
    "For testing on local machine\n",
    "\n",
    "The function works by requesting a json of the latest road incidents from the LTA Dynamic Data API. This lambda is queried hourly. After quering the data, \n",
    "it checks if the api returns any data. If there is, it converts it into a pandas table, and creates the Date and Time column. It then filters out to keep the data\n",
    "from the past hourly, and checks again if there is any data. If there is, it converts it into a json table, and is inserted into the DynamoDB table.\n",
    "\"\"\"\n",
    "\n",
    "# URL and Pulling Data\n",
    "traffic_url = \"http://datamall2.mytransport.sg/ltaodataservice/TrafficIncidents\"\n",
    "api_key = open(\"api_key.txt\").read()\n",
    "api_headers = {\"AccountKey\": api_key, \"accept\": \"application/json\"}\n",
    "\n",
    "request = requests.get(url=traffic_url, headers=api_headers)\n",
    "print(request)\n",
    "data = request.json()\n",
    "dt = datetime.datetime.now()    # + datetime.timedelta(hours = 8)\n",
    "                                # Only needed in AWS due to time difference\n",
    "\n",
    "df = pd.DataFrame(data[\"value\"])"
   ]
  },
  {
   "cell_type": "code",
   "execution_count": 124,
   "id": "0de6eb18",
   "metadata": {},
   "outputs": [
    {
     "data": {
      "text/html": [
       "<div>\n",
       "<style scoped>\n",
       "    .dataframe tbody tr th:only-of-type {\n",
       "        vertical-align: middle;\n",
       "    }\n",
       "\n",
       "    .dataframe tbody tr th {\n",
       "        vertical-align: top;\n",
       "    }\n",
       "\n",
       "    .dataframe thead th {\n",
       "        text-align: right;\n",
       "    }\n",
       "</style>\n",
       "<table border=\"1\" class=\"dataframe\">\n",
       "  <thead>\n",
       "    <tr style=\"text-align: right;\">\n",
       "      <th></th>\n",
       "      <th>Type</th>\n",
       "      <th>Latitude</th>\n",
       "      <th>Longitude</th>\n",
       "      <th>Message</th>\n",
       "    </tr>\n",
       "  </thead>\n",
       "  <tbody>\n",
       "    <tr>\n",
       "      <th>0</th>\n",
       "      <td>Vehicle breakdown</td>\n",
       "      <td>1.379377</td>\n",
       "      <td>103.776146</td>\n",
       "      <td>(8/1)22:05 Vehicle breakdown on BKE (towards P...</td>\n",
       "    </tr>\n",
       "    <tr>\n",
       "      <th>1</th>\n",
       "      <td>Vehicle breakdown</td>\n",
       "      <td>1.330023</td>\n",
       "      <td>103.820950</td>\n",
       "      <td>(8/1)22:03 Vehicle breakdown on PIE (towards T...</td>\n",
       "    </tr>\n",
       "    <tr>\n",
       "      <th>2</th>\n",
       "      <td>Vehicle breakdown</td>\n",
       "      <td>1.364223</td>\n",
       "      <td>103.956758</td>\n",
       "      <td>(8/1)21:59 Vehicle breakdown on TPE (towards P...</td>\n",
       "    </tr>\n",
       "    <tr>\n",
       "      <th>3</th>\n",
       "      <td>Roadwork</td>\n",
       "      <td>1.347536</td>\n",
       "      <td>103.966132</td>\n",
       "      <td>(8/1)21:45 Roadworks on PIE (towards Tuas) at ...</td>\n",
       "    </tr>\n",
       "    <tr>\n",
       "      <th>4</th>\n",
       "      <td>Roadwork</td>\n",
       "      <td>1.278640</td>\n",
       "      <td>103.824916</td>\n",
       "      <td>(8/1)21:37 Roadworks on AYE (towards MCE) at L...</td>\n",
       "    </tr>\n",
       "    <tr>\n",
       "      <th>5</th>\n",
       "      <td>Roadwork</td>\n",
       "      <td>1.311912</td>\n",
       "      <td>103.803815</td>\n",
       "      <td>(8/1)15:09 Roadworks on Farrer Road (towards L...</td>\n",
       "    </tr>\n",
       "  </tbody>\n",
       "</table>\n",
       "</div>"
      ],
      "text/plain": [
       "                Type  Latitude   Longitude  \\\n",
       "0  Vehicle breakdown  1.379377  103.776146   \n",
       "1  Vehicle breakdown  1.330023  103.820950   \n",
       "2  Vehicle breakdown  1.364223  103.956758   \n",
       "3           Roadwork  1.347536  103.966132   \n",
       "4           Roadwork  1.278640  103.824916   \n",
       "5           Roadwork  1.311912  103.803815   \n",
       "\n",
       "                                             Message  \n",
       "0  (8/1)22:05 Vehicle breakdown on BKE (towards P...  \n",
       "1  (8/1)22:03 Vehicle breakdown on PIE (towards T...  \n",
       "2  (8/1)21:59 Vehicle breakdown on TPE (towards P...  \n",
       "3  (8/1)21:45 Roadworks on PIE (towards Tuas) at ...  \n",
       "4  (8/1)21:37 Roadworks on AYE (towards MCE) at L...  \n",
       "5  (8/1)15:09 Roadworks on Farrer Road (towards L...  "
      ]
     },
     "execution_count": 124,
     "metadata": {},
     "output_type": "execute_result"
    }
   ],
   "source": [
    "df = pd.DataFrame(data[\"value\"])\n",
    "df"
   ]
  },
  {
   "cell_type": "code",
   "execution_count": 113,
   "id": "e1d0a271",
   "metadata": {},
   "outputs": [
    {
     "name": "stdout",
     "output_type": "stream",
     "text": [
      "\n"
     ]
    }
   ],
   "source": [
    "len(df) # Add line to break\n",
    "\n",
    "if (len(df) > 0):\n",
    "    print()\n",
    "    # Continue with code"
   ]
  },
  {
   "cell_type": "code",
   "execution_count": 114,
   "id": "ca3b8329",
   "metadata": {},
   "outputs": [],
   "source": [
    "# Extract Date and Time out of the Message to keep the main message only\n",
    "\n",
    "date_regex = \"([0-9]{1,2}/[0-9]{1,2})\"\n",
    "df[\"Date\"] = df[\"Message\"].str.extract(pat = date_regex) + \"/\" + str(dt.year)\n",
    "\n",
    "time_regex = \"([0-9]{1,2}:[0-9]{1,2})\"\n",
    "df[\"Time\"] = df[\"Message\"].str.extract(pat = time_regex)\n",
    "\n",
    "df[\"Date_Time\"] = pd.to_datetime(df[\"Date\"] + df[\"Time\"], format = \"%d/%m/%Y%H:%S\")\n",
    "\n",
    "message_regex = \"\\d\\s(.*$)\"\n",
    "df[\"Message\"] = df[\"Message\"].str.extract(pat = message_regex)\n",
    "\n",
    "df = df[[\"Type\", \"Date_Time\", \"Message\", \"Latitude\", \"Longitude\"]]"
   ]
  },
  {
   "cell_type": "code",
   "execution_count": 115,
   "id": "3af9ef90",
   "metadata": {},
   "outputs": [
    {
     "data": {
      "text/html": [
       "<div>\n",
       "<style scoped>\n",
       "    .dataframe tbody tr th:only-of-type {\n",
       "        vertical-align: middle;\n",
       "    }\n",
       "\n",
       "    .dataframe tbody tr th {\n",
       "        vertical-align: top;\n",
       "    }\n",
       "\n",
       "    .dataframe thead th {\n",
       "        text-align: right;\n",
       "    }\n",
       "</style>\n",
       "<table border=\"1\" class=\"dataframe\">\n",
       "  <thead>\n",
       "    <tr style=\"text-align: right;\">\n",
       "      <th></th>\n",
       "      <th>Type</th>\n",
       "      <th>Date_Time</th>\n",
       "      <th>Message</th>\n",
       "      <th>Latitude</th>\n",
       "      <th>Longitude</th>\n",
       "    </tr>\n",
       "  </thead>\n",
       "  <tbody>\n",
       "    <tr>\n",
       "      <th>0</th>\n",
       "      <td>Vehicle breakdown</td>\n",
       "      <td>2023-01-08 19:00:02</td>\n",
       "      <td>Vehicle breakdown on SLE (towards CTE) after B...</td>\n",
       "      <td>1.426443</td>\n",
       "      <td>103.781225</td>\n",
       "    </tr>\n",
       "    <tr>\n",
       "      <th>1</th>\n",
       "      <td>Roadwork</td>\n",
       "      <td>2023-01-08 15:00:09</td>\n",
       "      <td>Roadworks on Farrer Road (towards Lornie) at F...</td>\n",
       "      <td>1.311912</td>\n",
       "      <td>103.803815</td>\n",
       "    </tr>\n",
       "    <tr>\n",
       "      <th>2</th>\n",
       "      <td>Roadwork</td>\n",
       "      <td>2023-01-08 14:00:50</td>\n",
       "      <td>Roadworks on BKE (towards Woodlands) before KJ...</td>\n",
       "      <td>1.388921</td>\n",
       "      <td>103.774583</td>\n",
       "    </tr>\n",
       "    <tr>\n",
       "      <th>3</th>\n",
       "      <td>Road Block</td>\n",
       "      <td>2023-01-08 12:00:00</td>\n",
       "      <td>Road Closure on Temple Street (towards Trengga...</td>\n",
       "      <td>1.283531</td>\n",
       "      <td>103.843068</td>\n",
       "    </tr>\n",
       "    <tr>\n",
       "      <th>4</th>\n",
       "      <td>Heavy Traffic</td>\n",
       "      <td>2023-01-08 11:00:26</td>\n",
       "      <td>Heavy Traffic on Orchard Turn (towards Orchard...</td>\n",
       "      <td>1.301712</td>\n",
       "      <td>103.834921</td>\n",
       "    </tr>\n",
       "  </tbody>\n",
       "</table>\n",
       "</div>"
      ],
      "text/plain": [
       "                Type           Date_Time  \\\n",
       "0  Vehicle breakdown 2023-01-08 19:00:02   \n",
       "1           Roadwork 2023-01-08 15:00:09   \n",
       "2           Roadwork 2023-01-08 14:00:50   \n",
       "3         Road Block 2023-01-08 12:00:00   \n",
       "4      Heavy Traffic 2023-01-08 11:00:26   \n",
       "\n",
       "                                             Message  Latitude   Longitude  \n",
       "0  Vehicle breakdown on SLE (towards CTE) after B...  1.426443  103.781225  \n",
       "1  Roadworks on Farrer Road (towards Lornie) at F...  1.311912  103.803815  \n",
       "2  Roadworks on BKE (towards Woodlands) before KJ...  1.388921  103.774583  \n",
       "3  Road Closure on Temple Street (towards Trengga...  1.283531  103.843068  \n",
       "4  Heavy Traffic on Orchard Turn (towards Orchard...  1.301712  103.834921  "
      ]
     },
     "execution_count": 115,
     "metadata": {},
     "output_type": "execute_result"
    }
   ],
   "source": [
    "df"
   ]
  },
  {
   "cell_type": "code",
   "execution_count": 116,
   "id": "9ed8345c",
   "metadata": {},
   "outputs": [
    {
     "ename": "KeyError",
     "evalue": "'Time'",
     "output_type": "error",
     "traceback": [
      "\u001b[0;31m---------------------------------------------------------------------------\u001b[0m",
      "\u001b[0;31mKeyError\u001b[0m                                  Traceback (most recent call last)",
      "\u001b[0;32m~/opt/anaconda3/lib/python3.9/site-packages/pandas/core/indexes/base.py\u001b[0m in \u001b[0;36mget_loc\u001b[0;34m(self, key, method, tolerance)\u001b[0m\n\u001b[1;32m   3628\u001b[0m             \u001b[0;32mtry\u001b[0m\u001b[0;34m:\u001b[0m\u001b[0;34m\u001b[0m\u001b[0;34m\u001b[0m\u001b[0m\n\u001b[0;32m-> 3629\u001b[0;31m                 \u001b[0;32mreturn\u001b[0m \u001b[0mself\u001b[0m\u001b[0;34m.\u001b[0m\u001b[0m_engine\u001b[0m\u001b[0;34m.\u001b[0m\u001b[0mget_loc\u001b[0m\u001b[0;34m(\u001b[0m\u001b[0mcasted_key\u001b[0m\u001b[0;34m)\u001b[0m\u001b[0;34m\u001b[0m\u001b[0;34m\u001b[0m\u001b[0m\n\u001b[0m\u001b[1;32m   3630\u001b[0m             \u001b[0;32mexcept\u001b[0m \u001b[0mKeyError\u001b[0m \u001b[0;32mas\u001b[0m \u001b[0merr\u001b[0m\u001b[0;34m:\u001b[0m\u001b[0;34m\u001b[0m\u001b[0;34m\u001b[0m\u001b[0m\n",
      "\u001b[0;32m~/opt/anaconda3/lib/python3.9/site-packages/pandas/_libs/index.pyx\u001b[0m in \u001b[0;36mpandas._libs.index.IndexEngine.get_loc\u001b[0;34m()\u001b[0m\n",
      "\u001b[0;32m~/opt/anaconda3/lib/python3.9/site-packages/pandas/_libs/index.pyx\u001b[0m in \u001b[0;36mpandas._libs.index.IndexEngine.get_loc\u001b[0;34m()\u001b[0m\n",
      "\u001b[0;32mpandas/_libs/hashtable_class_helper.pxi\u001b[0m in \u001b[0;36mpandas._libs.hashtable.PyObjectHashTable.get_item\u001b[0;34m()\u001b[0m\n",
      "\u001b[0;32mpandas/_libs/hashtable_class_helper.pxi\u001b[0m in \u001b[0;36mpandas._libs.hashtable.PyObjectHashTable.get_item\u001b[0;34m()\u001b[0m\n",
      "\u001b[0;31mKeyError\u001b[0m: 'Time'",
      "\nThe above exception was the direct cause of the following exception:\n",
      "\u001b[0;31mKeyError\u001b[0m                                  Traceback (most recent call last)",
      "\u001b[0;32m/var/folders/rm/cf7ctnjs79ddm4n3_4wkw5_m0000gn/T/ipykernel_74328/3221942862.py\u001b[0m in \u001b[0;36m<module>\u001b[0;34m\u001b[0m\n\u001b[1;32m      2\u001b[0m \u001b[0;32mif\u001b[0m \u001b[0mdt\u001b[0m\u001b[0;34m.\u001b[0m\u001b[0mhour\u001b[0m \u001b[0;34m>=\u001b[0m \u001b[0;36m1\u001b[0m\u001b[0;34m:\u001b[0m\u001b[0;34m\u001b[0m\u001b[0;34m\u001b[0m\u001b[0m\n\u001b[1;32m      3\u001b[0m     \u001b[0mprev_hour\u001b[0m \u001b[0;34m=\u001b[0m \u001b[0mstr\u001b[0m\u001b[0;34m(\u001b[0m\u001b[0mdt\u001b[0m\u001b[0;34m.\u001b[0m\u001b[0mhour\u001b[0m \u001b[0;34m-\u001b[0m \u001b[0;36m1\u001b[0m\u001b[0;34m)\u001b[0m\u001b[0;34m\u001b[0m\u001b[0;34m\u001b[0m\u001b[0m\n\u001b[0;32m----> 4\u001b[0;31m     \u001b[0mdf_boolean\u001b[0m \u001b[0;34m=\u001b[0m \u001b[0mdf\u001b[0m\u001b[0;34m[\u001b[0m\u001b[0;34m\"Time\"\u001b[0m\u001b[0;34m]\u001b[0m\u001b[0;34m.\u001b[0m\u001b[0mstr\u001b[0m\u001b[0;34m.\u001b[0m\u001b[0mmatch\u001b[0m\u001b[0;34m(\u001b[0m\u001b[0mpat\u001b[0m \u001b[0;34m=\u001b[0m \u001b[0;34m(\u001b[0m\u001b[0mprev_hour\u001b[0m \u001b[0;34m+\u001b[0m \u001b[0;34m\":\"\u001b[0m\u001b[0;34m)\u001b[0m\u001b[0;34m)\u001b[0m\u001b[0;34m\u001b[0m\u001b[0;34m\u001b[0m\u001b[0m\n\u001b[0m\u001b[1;32m      5\u001b[0m \u001b[0;32melse\u001b[0m\u001b[0;34m:\u001b[0m\u001b[0;34m\u001b[0m\u001b[0;34m\u001b[0m\u001b[0m\n\u001b[1;32m      6\u001b[0m     \u001b[0mprev_hour\u001b[0m \u001b[0;34m=\u001b[0m \u001b[0;34m\"23\"\u001b[0m\u001b[0;34m\u001b[0m\u001b[0;34m\u001b[0m\u001b[0m\n",
      "\u001b[0;32m~/opt/anaconda3/lib/python3.9/site-packages/pandas/core/frame.py\u001b[0m in \u001b[0;36m__getitem__\u001b[0;34m(self, key)\u001b[0m\n\u001b[1;32m   3503\u001b[0m             \u001b[0;32mif\u001b[0m \u001b[0mself\u001b[0m\u001b[0;34m.\u001b[0m\u001b[0mcolumns\u001b[0m\u001b[0;34m.\u001b[0m\u001b[0mnlevels\u001b[0m \u001b[0;34m>\u001b[0m \u001b[0;36m1\u001b[0m\u001b[0;34m:\u001b[0m\u001b[0;34m\u001b[0m\u001b[0;34m\u001b[0m\u001b[0m\n\u001b[1;32m   3504\u001b[0m                 \u001b[0;32mreturn\u001b[0m \u001b[0mself\u001b[0m\u001b[0;34m.\u001b[0m\u001b[0m_getitem_multilevel\u001b[0m\u001b[0;34m(\u001b[0m\u001b[0mkey\u001b[0m\u001b[0;34m)\u001b[0m\u001b[0;34m\u001b[0m\u001b[0;34m\u001b[0m\u001b[0m\n\u001b[0;32m-> 3505\u001b[0;31m             \u001b[0mindexer\u001b[0m \u001b[0;34m=\u001b[0m \u001b[0mself\u001b[0m\u001b[0;34m.\u001b[0m\u001b[0mcolumns\u001b[0m\u001b[0;34m.\u001b[0m\u001b[0mget_loc\u001b[0m\u001b[0;34m(\u001b[0m\u001b[0mkey\u001b[0m\u001b[0;34m)\u001b[0m\u001b[0;34m\u001b[0m\u001b[0;34m\u001b[0m\u001b[0m\n\u001b[0m\u001b[1;32m   3506\u001b[0m             \u001b[0;32mif\u001b[0m \u001b[0mis_integer\u001b[0m\u001b[0;34m(\u001b[0m\u001b[0mindexer\u001b[0m\u001b[0;34m)\u001b[0m\u001b[0;34m:\u001b[0m\u001b[0;34m\u001b[0m\u001b[0;34m\u001b[0m\u001b[0m\n\u001b[1;32m   3507\u001b[0m                 \u001b[0mindexer\u001b[0m \u001b[0;34m=\u001b[0m \u001b[0;34m[\u001b[0m\u001b[0mindexer\u001b[0m\u001b[0;34m]\u001b[0m\u001b[0;34m\u001b[0m\u001b[0;34m\u001b[0m\u001b[0m\n",
      "\u001b[0;32m~/opt/anaconda3/lib/python3.9/site-packages/pandas/core/indexes/base.py\u001b[0m in \u001b[0;36mget_loc\u001b[0;34m(self, key, method, tolerance)\u001b[0m\n\u001b[1;32m   3629\u001b[0m                 \u001b[0;32mreturn\u001b[0m \u001b[0mself\u001b[0m\u001b[0;34m.\u001b[0m\u001b[0m_engine\u001b[0m\u001b[0;34m.\u001b[0m\u001b[0mget_loc\u001b[0m\u001b[0;34m(\u001b[0m\u001b[0mcasted_key\u001b[0m\u001b[0;34m)\u001b[0m\u001b[0;34m\u001b[0m\u001b[0;34m\u001b[0m\u001b[0m\n\u001b[1;32m   3630\u001b[0m             \u001b[0;32mexcept\u001b[0m \u001b[0mKeyError\u001b[0m \u001b[0;32mas\u001b[0m \u001b[0merr\u001b[0m\u001b[0;34m:\u001b[0m\u001b[0;34m\u001b[0m\u001b[0;34m\u001b[0m\u001b[0m\n\u001b[0;32m-> 3631\u001b[0;31m                 \u001b[0;32mraise\u001b[0m \u001b[0mKeyError\u001b[0m\u001b[0;34m(\u001b[0m\u001b[0mkey\u001b[0m\u001b[0;34m)\u001b[0m \u001b[0;32mfrom\u001b[0m \u001b[0merr\u001b[0m\u001b[0;34m\u001b[0m\u001b[0;34m\u001b[0m\u001b[0m\n\u001b[0m\u001b[1;32m   3632\u001b[0m             \u001b[0;32mexcept\u001b[0m \u001b[0mTypeError\u001b[0m\u001b[0;34m:\u001b[0m\u001b[0;34m\u001b[0m\u001b[0;34m\u001b[0m\u001b[0m\n\u001b[1;32m   3633\u001b[0m                 \u001b[0;31m# If we have a listlike key, _check_indexing_error will raise\u001b[0m\u001b[0;34m\u001b[0m\u001b[0;34m\u001b[0m\u001b[0m\n",
      "\u001b[0;31mKeyError\u001b[0m: 'Time'"
     ]
    }
   ],
   "source": [
    "# Filtering to keep only previous hour of data (Removed)\n",
    "if dt.hour >= 1:\n",
    "    prev_hour = str(dt.hour - 1)\n",
    "    df_boolean = df[\"Time\"].str.match(pat = (prev_hour + \":\"))\n",
    "else:\n",
    "    prev_hour = \"23\"\n",
    "    df_boolean = df[\"Time\"].str.match(pat = \"23:\")"
   ]
  },
  {
   "cell_type": "code",
   "execution_count": 117,
   "id": "97e13353",
   "metadata": {},
   "outputs": [
    {
     "name": "stdout",
     "output_type": "stream",
     "text": [
      "2023-01-08 19:00:41.755815\n"
     ]
    }
   ],
   "source": [
    "# Filtering to keep only past 15 minutes of data\n",
    "dt_last15 = dt-datetime.timedelta(minutes=15)\n",
    "print(dt_last15)"
   ]
  },
  {
   "cell_type": "code",
   "execution_count": 118,
   "id": "5a5e239a",
   "metadata": {},
   "outputs": [
    {
     "data": {
      "text/html": [
       "<div>\n",
       "<style scoped>\n",
       "    .dataframe tbody tr th:only-of-type {\n",
       "        vertical-align: middle;\n",
       "    }\n",
       "\n",
       "    .dataframe tbody tr th {\n",
       "        vertical-align: top;\n",
       "    }\n",
       "\n",
       "    .dataframe thead th {\n",
       "        text-align: right;\n",
       "    }\n",
       "</style>\n",
       "<table border=\"1\" class=\"dataframe\">\n",
       "  <thead>\n",
       "    <tr style=\"text-align: right;\">\n",
       "      <th></th>\n",
       "      <th>Type</th>\n",
       "      <th>Date_Time</th>\n",
       "      <th>Message</th>\n",
       "      <th>Latitude</th>\n",
       "      <th>Longitude</th>\n",
       "    </tr>\n",
       "  </thead>\n",
       "  <tbody>\n",
       "  </tbody>\n",
       "</table>\n",
       "</div>"
      ],
      "text/plain": [
       "Empty DataFrame\n",
       "Columns: [Type, Date_Time, Message, Latitude, Longitude]\n",
       "Index: []"
      ]
     },
     "execution_count": 118,
     "metadata": {},
     "output_type": "execute_result"
    }
   ],
   "source": [
    "df_tocloud = df[df['Date_Time'] > dt_last15].reset_index(drop = True)\n",
    "df_tocloud"
   ]
  },
  {
   "cell_type": "code",
   "execution_count": 119,
   "id": "53b2734e",
   "metadata": {},
   "outputs": [
    {
     "data": {
      "text/plain": [
       "'2023-01-08 19:01'"
      ]
     },
     "execution_count": 119,
     "metadata": {},
     "output_type": "execute_result"
    }
   ],
   "source": [
    "df_tocloud_key = dt.strftime(format = \"%Y-%m-%d %H:%m\")\n",
    "df_tocloud_key"
   ]
  },
  {
   "cell_type": "code",
   "execution_count": 128,
   "id": "030a3d19",
   "metadata": {},
   "outputs": [
    {
     "data": {
      "text/plain": [
       "'2023-01-09 22:44'"
      ]
     },
     "execution_count": 128,
     "metadata": {},
     "output_type": "execute_result"
    }
   ],
   "source": [
    "dt = datetime.datetime.now()\n",
    "dt.strftime(format = \"%Y-%m-%d %H:%M\")"
   ]
  },
  {
   "cell_type": "markdown",
   "id": "bfb3cdc4",
   "metadata": {},
   "source": [
    "## For Testing and Subsequent Wring"
   ]
  },
  {
   "cell_type": "code",
   "execution_count": 120,
   "id": "cd75b9c0",
   "metadata": {},
   "outputs": [
    {
     "data": {
      "text/html": [
       "<div>\n",
       "<style scoped>\n",
       "    .dataframe tbody tr th:only-of-type {\n",
       "        vertical-align: middle;\n",
       "    }\n",
       "\n",
       "    .dataframe tbody tr th {\n",
       "        vertical-align: top;\n",
       "    }\n",
       "\n",
       "    .dataframe thead th {\n",
       "        text-align: right;\n",
       "    }\n",
       "</style>\n",
       "<table border=\"1\" class=\"dataframe\">\n",
       "  <thead>\n",
       "    <tr style=\"text-align: right;\">\n",
       "      <th></th>\n",
       "      <th>Type</th>\n",
       "      <th>Date_Time</th>\n",
       "      <th>Message</th>\n",
       "      <th>Latitude</th>\n",
       "      <th>Longitude</th>\n",
       "    </tr>\n",
       "  </thead>\n",
       "  <tbody>\n",
       "  </tbody>\n",
       "</table>\n",
       "</div>"
      ],
      "text/plain": [
       "Empty DataFrame\n",
       "Columns: [Type, Date_Time, Message, Latitude, Longitude]\n",
       "Index: []"
      ]
     },
     "execution_count": 120,
     "metadata": {},
     "output_type": "execute_result"
    }
   ],
   "source": [
    "# Converting to JSON for Writing to Cloud\n",
    "df_tocloud = df_tocloud.to_json()\n",
    "\n",
    "\n",
    "# Reading from Cloud\n",
    "import json\n",
    "df_raw = json.loads(df_tocloud)\n",
    "df_local = pd.DataFrame(df_raw)\n",
    "df_local"
   ]
  },
  {
   "cell_type": "code",
   "execution_count": null,
   "id": "6149201f",
   "metadata": {},
   "outputs": [],
   "source": []
  },
  {
   "cell_type": "code",
   "execution_count": null,
   "id": "c195ec20",
   "metadata": {},
   "outputs": [],
   "source": []
  }
 ],
 "metadata": {
  "kernelspec": {
   "display_name": "Python 3 (ipykernel)",
   "language": "python",
   "name": "python3"
  },
  "language_info": {
   "codemirror_mode": {
    "name": "ipython",
    "version": 3
   },
   "file_extension": ".py",
   "mimetype": "text/x-python",
   "name": "python",
   "nbconvert_exporter": "python",
   "pygments_lexer": "ipython3",
   "version": "3.9.13"
  }
 },
 "nbformat": 4,
 "nbformat_minor": 5
}
