{
 "cells": [
  {
   "cell_type": "code",
   "execution_count": 94,
   "id": "d27b645e",
   "metadata": {},
   "outputs": [
    {
     "name": "stdout",
     "output_type": "stream",
     "text": [
      "<Response [200]>\n"
     ]
    }
   ],
   "source": [
    "import requests\n",
    "import pandas as pd\n",
    "import datetime\n",
    "\"\"\"\n",
    "For testing on local machine\n",
    "\n",
    "The function works by requesting a json of the latest road incidents from the LTA Dynamic Data API. This lambda is queried hourly. After quering the data, \n",
    "it checks if the api returns any data. If there is, it converts it into a pandas table, and creates the Date and Time column. It then filters out to keep the data\n",
    "from the past hourly, and checks again if there is any data. If there is, it converts it into a json table, and is inserted into the DynamoDB table.\n",
    "\"\"\"\n",
    "\n",
    "# URL and Pulling Data\n",
    "traffic_url = \"http://datamall2.mytransport.sg/ltaodataservice/TrafficIncidents\"\n",
    "api_key = open(\"api_key.txt\").read()\n",
    "api_headers = {\"AccountKey\": api_key, \"accept\": \"application/json\"}\n",
    "\n",
    "request = requests.get(url=traffic_url, headers=api_headers)\n",
    "print(request)\n",
    "data = request.json()\n",
    "dt = datetime.datetime.now()    # + datetime.timedelta(hours = 8)\n",
    "                                # Only needed in AWS due to time difference\n",
    "\n",
    "df = pd.DataFrame(data[\"value\"])"
   ]
  },
  {
   "cell_type": "code",
   "execution_count": 95,
   "id": "0de6eb18",
   "metadata": {},
   "outputs": [
    {
     "data": {
      "text/html": [
       "<div>\n",
       "<style scoped>\n",
       "    .dataframe tbody tr th:only-of-type {\n",
       "        vertical-align: middle;\n",
       "    }\n",
       "\n",
       "    .dataframe tbody tr th {\n",
       "        vertical-align: top;\n",
       "    }\n",
       "\n",
       "    .dataframe thead th {\n",
       "        text-align: right;\n",
       "    }\n",
       "</style>\n",
       "<table border=\"1\" class=\"dataframe\">\n",
       "  <thead>\n",
       "    <tr style=\"text-align: right;\">\n",
       "      <th></th>\n",
       "      <th>Type</th>\n",
       "      <th>Latitude</th>\n",
       "      <th>Longitude</th>\n",
       "      <th>Message</th>\n",
       "    </tr>\n",
       "  </thead>\n",
       "  <tbody>\n",
       "    <tr>\n",
       "      <th>0</th>\n",
       "      <td>Roadwork</td>\n",
       "      <td>1.311912</td>\n",
       "      <td>103.803815</td>\n",
       "      <td>(24/1)21:56 Roadworks on Farrer Road (towards ...</td>\n",
       "    </tr>\n",
       "    <tr>\n",
       "      <th>1</th>\n",
       "      <td>Vehicle breakdown</td>\n",
       "      <td>1.412663</td>\n",
       "      <td>103.806420</td>\n",
       "      <td>(24/1)21:55 Vehicle breakdown on SLE (towards ...</td>\n",
       "    </tr>\n",
       "    <tr>\n",
       "      <th>2</th>\n",
       "      <td>Obstacle</td>\n",
       "      <td>1.398875</td>\n",
       "      <td>103.898714</td>\n",
       "      <td>(24/1)20:43 Obstacle on TPE (towards SLE) at P...</td>\n",
       "    </tr>\n",
       "  </tbody>\n",
       "</table>\n",
       "</div>"
      ],
      "text/plain": [
       "                Type  Latitude   Longitude  \\\n",
       "0           Roadwork  1.311912  103.803815   \n",
       "1  Vehicle breakdown  1.412663  103.806420   \n",
       "2           Obstacle  1.398875  103.898714   \n",
       "\n",
       "                                             Message  \n",
       "0  (24/1)21:56 Roadworks on Farrer Road (towards ...  \n",
       "1  (24/1)21:55 Vehicle breakdown on SLE (towards ...  \n",
       "2  (24/1)20:43 Obstacle on TPE (towards SLE) at P...  "
      ]
     },
     "execution_count": 95,
     "metadata": {},
     "output_type": "execute_result"
    }
   ],
   "source": [
    "df = pd.DataFrame(data[\"value\"])\n",
    "df"
   ]
  },
  {
   "cell_type": "code",
   "execution_count": 14,
   "id": "e1d0a271",
   "metadata": {},
   "outputs": [
    {
     "name": "stdout",
     "output_type": "stream",
     "text": [
      "\n"
     ]
    }
   ],
   "source": [
    "len(df) # Add line to break\n",
    "\n",
    "if (len(df) > 0):\n",
    "    print()\n",
    "    # Continue with code"
   ]
  },
  {
   "cell_type": "code",
   "execution_count": 96,
   "id": "ca3b8329",
   "metadata": {},
   "outputs": [],
   "source": [
    "# Extract Date and Time out of the Message to keep the main message only\n",
    "\n",
    "date_regex = \"([0-9]{1,2}/[0-9]{1,2})\"\n",
    "df[\"Date\"] = df[\"Message\"].str.extract(pat = date_regex) + \"/\" + str(dt.year)\n",
    "\n",
    "time_regex = \"([0-9]{1,2}:[0-9]{1,2})\"\n",
    "df[\"Time\"] = df[\"Message\"].str.extract(pat = time_regex)\n",
    "\n",
    "df[\"Date_Time_Start\"] = pd.to_datetime(df[\"Date\"] + df[\"Time\"], format = \"%d/%m/%Y%H:%S\")\n",
    "\n",
    "message_regex = \"\\d\\s(.*$)\"\n",
    "df[\"Message\"] = df[\"Message\"].str.extract(pat = message_regex)\n",
    "\n",
    "df[\"Date_Time_End\"] = \"Nil\"\n",
    "\n",
    "df = df[[\"Type\", \"Date_Time_Start\", \"Date_Time_End\", \"Message\", \"Latitude\", \"Longitude\"]]"
   ]
  },
  {
   "cell_type": "code",
   "execution_count": 98,
   "id": "3af9ef90",
   "metadata": {},
   "outputs": [
    {
     "data": {
      "text/plain": [
       "0    2023-01-24 21:00:56\n",
       "1    2023-01-24 21:00:55\n",
       "2    2023-01-24 20:00:43\n",
       "Name: Date_Time_Start, dtype: object"
      ]
     },
     "execution_count": 98,
     "metadata": {},
     "output_type": "execute_result"
    }
   ],
   "source": [
    "df[\"Date_Time_Start\"].astype(str)"
   ]
  },
  {
   "cell_type": "code",
   "execution_count": 116,
   "id": "9ed8345c",
   "metadata": {},
   "outputs": [
    {
     "ename": "KeyError",
     "evalue": "'Time'",
     "output_type": "error",
     "traceback": [
      "\u001b[0;31m---------------------------------------------------------------------------\u001b[0m",
      "\u001b[0;31mKeyError\u001b[0m                                  Traceback (most recent call last)",
      "\u001b[0;32m~/opt/anaconda3/lib/python3.9/site-packages/pandas/core/indexes/base.py\u001b[0m in \u001b[0;36mget_loc\u001b[0;34m(self, key, method, tolerance)\u001b[0m\n\u001b[1;32m   3628\u001b[0m             \u001b[0;32mtry\u001b[0m\u001b[0;34m:\u001b[0m\u001b[0;34m\u001b[0m\u001b[0;34m\u001b[0m\u001b[0m\n\u001b[0;32m-> 3629\u001b[0;31m                 \u001b[0;32mreturn\u001b[0m \u001b[0mself\u001b[0m\u001b[0;34m.\u001b[0m\u001b[0m_engine\u001b[0m\u001b[0;34m.\u001b[0m\u001b[0mget_loc\u001b[0m\u001b[0;34m(\u001b[0m\u001b[0mcasted_key\u001b[0m\u001b[0;34m)\u001b[0m\u001b[0;34m\u001b[0m\u001b[0;34m\u001b[0m\u001b[0m\n\u001b[0m\u001b[1;32m   3630\u001b[0m             \u001b[0;32mexcept\u001b[0m \u001b[0mKeyError\u001b[0m \u001b[0;32mas\u001b[0m \u001b[0merr\u001b[0m\u001b[0;34m:\u001b[0m\u001b[0;34m\u001b[0m\u001b[0;34m\u001b[0m\u001b[0m\n",
      "\u001b[0;32m~/opt/anaconda3/lib/python3.9/site-packages/pandas/_libs/index.pyx\u001b[0m in \u001b[0;36mpandas._libs.index.IndexEngine.get_loc\u001b[0;34m()\u001b[0m\n",
      "\u001b[0;32m~/opt/anaconda3/lib/python3.9/site-packages/pandas/_libs/index.pyx\u001b[0m in \u001b[0;36mpandas._libs.index.IndexEngine.get_loc\u001b[0;34m()\u001b[0m\n",
      "\u001b[0;32mpandas/_libs/hashtable_class_helper.pxi\u001b[0m in \u001b[0;36mpandas._libs.hashtable.PyObjectHashTable.get_item\u001b[0;34m()\u001b[0m\n",
      "\u001b[0;32mpandas/_libs/hashtable_class_helper.pxi\u001b[0m in \u001b[0;36mpandas._libs.hashtable.PyObjectHashTable.get_item\u001b[0;34m()\u001b[0m\n",
      "\u001b[0;31mKeyError\u001b[0m: 'Time'",
      "\nThe above exception was the direct cause of the following exception:\n",
      "\u001b[0;31mKeyError\u001b[0m                                  Traceback (most recent call last)",
      "\u001b[0;32m/var/folders/rm/cf7ctnjs79ddm4n3_4wkw5_m0000gn/T/ipykernel_74328/3221942862.py\u001b[0m in \u001b[0;36m<module>\u001b[0;34m\u001b[0m\n\u001b[1;32m      2\u001b[0m \u001b[0;32mif\u001b[0m \u001b[0mdt\u001b[0m\u001b[0;34m.\u001b[0m\u001b[0mhour\u001b[0m \u001b[0;34m>=\u001b[0m \u001b[0;36m1\u001b[0m\u001b[0;34m:\u001b[0m\u001b[0;34m\u001b[0m\u001b[0;34m\u001b[0m\u001b[0m\n\u001b[1;32m      3\u001b[0m     \u001b[0mprev_hour\u001b[0m \u001b[0;34m=\u001b[0m \u001b[0mstr\u001b[0m\u001b[0;34m(\u001b[0m\u001b[0mdt\u001b[0m\u001b[0;34m.\u001b[0m\u001b[0mhour\u001b[0m \u001b[0;34m-\u001b[0m \u001b[0;36m1\u001b[0m\u001b[0;34m)\u001b[0m\u001b[0;34m\u001b[0m\u001b[0;34m\u001b[0m\u001b[0m\n\u001b[0;32m----> 4\u001b[0;31m     \u001b[0mdf_boolean\u001b[0m \u001b[0;34m=\u001b[0m \u001b[0mdf\u001b[0m\u001b[0;34m[\u001b[0m\u001b[0;34m\"Time\"\u001b[0m\u001b[0;34m]\u001b[0m\u001b[0;34m.\u001b[0m\u001b[0mstr\u001b[0m\u001b[0;34m.\u001b[0m\u001b[0mmatch\u001b[0m\u001b[0;34m(\u001b[0m\u001b[0mpat\u001b[0m \u001b[0;34m=\u001b[0m \u001b[0;34m(\u001b[0m\u001b[0mprev_hour\u001b[0m \u001b[0;34m+\u001b[0m \u001b[0;34m\":\"\u001b[0m\u001b[0;34m)\u001b[0m\u001b[0;34m)\u001b[0m\u001b[0;34m\u001b[0m\u001b[0;34m\u001b[0m\u001b[0m\n\u001b[0m\u001b[1;32m      5\u001b[0m \u001b[0;32melse\u001b[0m\u001b[0;34m:\u001b[0m\u001b[0;34m\u001b[0m\u001b[0;34m\u001b[0m\u001b[0m\n\u001b[1;32m      6\u001b[0m     \u001b[0mprev_hour\u001b[0m \u001b[0;34m=\u001b[0m \u001b[0;34m\"23\"\u001b[0m\u001b[0;34m\u001b[0m\u001b[0;34m\u001b[0m\u001b[0m\n",
      "\u001b[0;32m~/opt/anaconda3/lib/python3.9/site-packages/pandas/core/frame.py\u001b[0m in \u001b[0;36m__getitem__\u001b[0;34m(self, key)\u001b[0m\n\u001b[1;32m   3503\u001b[0m             \u001b[0;32mif\u001b[0m \u001b[0mself\u001b[0m\u001b[0;34m.\u001b[0m\u001b[0mcolumns\u001b[0m\u001b[0;34m.\u001b[0m\u001b[0mnlevels\u001b[0m \u001b[0;34m>\u001b[0m \u001b[0;36m1\u001b[0m\u001b[0;34m:\u001b[0m\u001b[0;34m\u001b[0m\u001b[0;34m\u001b[0m\u001b[0m\n\u001b[1;32m   3504\u001b[0m                 \u001b[0;32mreturn\u001b[0m \u001b[0mself\u001b[0m\u001b[0;34m.\u001b[0m\u001b[0m_getitem_multilevel\u001b[0m\u001b[0;34m(\u001b[0m\u001b[0mkey\u001b[0m\u001b[0;34m)\u001b[0m\u001b[0;34m\u001b[0m\u001b[0;34m\u001b[0m\u001b[0m\n\u001b[0;32m-> 3505\u001b[0;31m             \u001b[0mindexer\u001b[0m \u001b[0;34m=\u001b[0m \u001b[0mself\u001b[0m\u001b[0;34m.\u001b[0m\u001b[0mcolumns\u001b[0m\u001b[0;34m.\u001b[0m\u001b[0mget_loc\u001b[0m\u001b[0;34m(\u001b[0m\u001b[0mkey\u001b[0m\u001b[0;34m)\u001b[0m\u001b[0;34m\u001b[0m\u001b[0;34m\u001b[0m\u001b[0m\n\u001b[0m\u001b[1;32m   3506\u001b[0m             \u001b[0;32mif\u001b[0m \u001b[0mis_integer\u001b[0m\u001b[0;34m(\u001b[0m\u001b[0mindexer\u001b[0m\u001b[0;34m)\u001b[0m\u001b[0;34m:\u001b[0m\u001b[0;34m\u001b[0m\u001b[0;34m\u001b[0m\u001b[0m\n\u001b[1;32m   3507\u001b[0m                 \u001b[0mindexer\u001b[0m \u001b[0;34m=\u001b[0m \u001b[0;34m[\u001b[0m\u001b[0mindexer\u001b[0m\u001b[0;34m]\u001b[0m\u001b[0;34m\u001b[0m\u001b[0;34m\u001b[0m\u001b[0m\n",
      "\u001b[0;32m~/opt/anaconda3/lib/python3.9/site-packages/pandas/core/indexes/base.py\u001b[0m in \u001b[0;36mget_loc\u001b[0;34m(self, key, method, tolerance)\u001b[0m\n\u001b[1;32m   3629\u001b[0m                 \u001b[0;32mreturn\u001b[0m \u001b[0mself\u001b[0m\u001b[0;34m.\u001b[0m\u001b[0m_engine\u001b[0m\u001b[0;34m.\u001b[0m\u001b[0mget_loc\u001b[0m\u001b[0;34m(\u001b[0m\u001b[0mcasted_key\u001b[0m\u001b[0;34m)\u001b[0m\u001b[0;34m\u001b[0m\u001b[0;34m\u001b[0m\u001b[0m\n\u001b[1;32m   3630\u001b[0m             \u001b[0;32mexcept\u001b[0m \u001b[0mKeyError\u001b[0m \u001b[0;32mas\u001b[0m \u001b[0merr\u001b[0m\u001b[0;34m:\u001b[0m\u001b[0;34m\u001b[0m\u001b[0;34m\u001b[0m\u001b[0m\n\u001b[0;32m-> 3631\u001b[0;31m                 \u001b[0;32mraise\u001b[0m \u001b[0mKeyError\u001b[0m\u001b[0;34m(\u001b[0m\u001b[0mkey\u001b[0m\u001b[0;34m)\u001b[0m \u001b[0;32mfrom\u001b[0m \u001b[0merr\u001b[0m\u001b[0;34m\u001b[0m\u001b[0;34m\u001b[0m\u001b[0m\n\u001b[0m\u001b[1;32m   3632\u001b[0m             \u001b[0;32mexcept\u001b[0m \u001b[0mTypeError\u001b[0m\u001b[0;34m:\u001b[0m\u001b[0;34m\u001b[0m\u001b[0;34m\u001b[0m\u001b[0m\n\u001b[1;32m   3633\u001b[0m                 \u001b[0;31m# If we have a listlike key, _check_indexing_error will raise\u001b[0m\u001b[0;34m\u001b[0m\u001b[0;34m\u001b[0m\u001b[0m\n",
      "\u001b[0;31mKeyError\u001b[0m: 'Time'"
     ]
    }
   ],
   "source": [
    "# Filtering to keep only previous hour of data (Removed)\n",
    "if dt.hour >= 1:\n",
    "    prev_hour = str(dt.hour - 1)\n",
    "    df_boolean = df[\"Time\"].str.match(pat = (prev_hour + \":\"))\n",
    "else:\n",
    "    prev_hour = \"23\"\n",
    "    df_boolean = df[\"Time\"].str.match(pat = \"23:\")"
   ]
  },
  {
   "cell_type": "code",
   "execution_count": 117,
   "id": "97e13353",
   "metadata": {},
   "outputs": [
    {
     "name": "stdout",
     "output_type": "stream",
     "text": [
      "2023-01-08 19:00:41.755815\n"
     ]
    }
   ],
   "source": [
    "# Filtering to keep only past 15 minutes of data\n",
    "dt_last15 = dt-datetime.timedelta(minutes=15)\n",
    "print(dt_last15)"
   ]
  },
  {
   "cell_type": "code",
   "execution_count": 118,
   "id": "5a5e239a",
   "metadata": {},
   "outputs": [
    {
     "data": {
      "text/html": [
       "<div>\n",
       "<style scoped>\n",
       "    .dataframe tbody tr th:only-of-type {\n",
       "        vertical-align: middle;\n",
       "    }\n",
       "\n",
       "    .dataframe tbody tr th {\n",
       "        vertical-align: top;\n",
       "    }\n",
       "\n",
       "    .dataframe thead th {\n",
       "        text-align: right;\n",
       "    }\n",
       "</style>\n",
       "<table border=\"1\" class=\"dataframe\">\n",
       "  <thead>\n",
       "    <tr style=\"text-align: right;\">\n",
       "      <th></th>\n",
       "      <th>Type</th>\n",
       "      <th>Date_Time</th>\n",
       "      <th>Message</th>\n",
       "      <th>Latitude</th>\n",
       "      <th>Longitude</th>\n",
       "    </tr>\n",
       "  </thead>\n",
       "  <tbody>\n",
       "  </tbody>\n",
       "</table>\n",
       "</div>"
      ],
      "text/plain": [
       "Empty DataFrame\n",
       "Columns: [Type, Date_Time, Message, Latitude, Longitude]\n",
       "Index: []"
      ]
     },
     "execution_count": 118,
     "metadata": {},
     "output_type": "execute_result"
    }
   ],
   "source": [
    "df_tocloud = df[df['Date_Time'] > dt_last15].reset_index(drop = True)\n",
    "df_tocloud"
   ]
  },
  {
   "cell_type": "code",
   "execution_count": 119,
   "id": "53b2734e",
   "metadata": {},
   "outputs": [
    {
     "data": {
      "text/plain": [
       "'2023-01-08 19:01'"
      ]
     },
     "execution_count": 119,
     "metadata": {},
     "output_type": "execute_result"
    }
   ],
   "source": [
    "df_tocloud_key = dt.strftime(format = \"%Y-%m-%d %H:%m\")\n",
    "df_tocloud_key"
   ]
  },
  {
   "cell_type": "code",
   "execution_count": 128,
   "id": "030a3d19",
   "metadata": {},
   "outputs": [
    {
     "data": {
      "text/plain": [
       "'2023-01-09 22:44'"
      ]
     },
     "execution_count": 128,
     "metadata": {},
     "output_type": "execute_result"
    }
   ],
   "source": [
    "dt = datetime.datetime.now()\n",
    "dt.strftime(format = \"%Y-%m-%d %H:%M\")"
   ]
  },
  {
   "cell_type": "markdown",
   "id": "41633cf5",
   "metadata": {},
   "source": [
    "## For Building Temp and End Time"
   ]
  },
  {
   "cell_type": "code",
   "execution_count": 83,
   "id": "1f6aa658",
   "metadata": {},
   "outputs": [],
   "source": [
    "current = df[4:9].reset_index(drop = True)\n",
    "temp = df.reset_index(drop = True)"
   ]
  },
  {
   "cell_type": "code",
   "execution_count": 84,
   "id": "b8a9ac8e",
   "metadata": {},
   "outputs": [],
   "source": [
    "current[\"key\"] = current[\"Type\"] + \" \" + current[\"Message\"]\n",
    "temp[\"key\"] = temp[\"Type\"] + \" \" + temp[\"Message\"]"
   ]
  },
  {
   "cell_type": "code",
   "execution_count": 85,
   "id": "790217a4",
   "metadata": {},
   "outputs": [
    {
     "data": {
      "text/plain": [
       "0    False\n",
       "1    False\n",
       "2    False\n",
       "3    False\n",
       "4     True\n",
       "5     True\n",
       "6     True\n",
       "7     True\n",
       "8     True\n",
       "Name: key, dtype: bool"
      ]
     },
     "execution_count": 85,
     "metadata": {},
     "output_type": "execute_result"
    }
   ],
   "source": [
    "check_active = temp[\"key\"].isin(current[\"key\"])\n",
    "check_active"
   ]
  },
  {
   "cell_type": "code",
   "execution_count": 86,
   "id": "c1e614b0",
   "metadata": {},
   "outputs": [
    {
     "data": {
      "text/html": [
       "<div>\n",
       "<style scoped>\n",
       "    .dataframe tbody tr th:only-of-type {\n",
       "        vertical-align: middle;\n",
       "    }\n",
       "\n",
       "    .dataframe tbody tr th {\n",
       "        vertical-align: top;\n",
       "    }\n",
       "\n",
       "    .dataframe thead th {\n",
       "        text-align: right;\n",
       "    }\n",
       "</style>\n",
       "<table border=\"1\" class=\"dataframe\">\n",
       "  <thead>\n",
       "    <tr style=\"text-align: right;\">\n",
       "      <th></th>\n",
       "      <th>Type</th>\n",
       "      <th>Date_Time_Start</th>\n",
       "      <th>Date_Time_End</th>\n",
       "      <th>Message</th>\n",
       "      <th>Latitude</th>\n",
       "      <th>Longitude</th>\n",
       "    </tr>\n",
       "  </thead>\n",
       "  <tbody>\n",
       "    <tr>\n",
       "      <th>0</th>\n",
       "      <td>Accident</td>\n",
       "      <td>2023-01-22 18:00:11</td>\n",
       "      <td>2023-01-22 18:14:36</td>\n",
       "      <td>Accident on PIE (towards Changi Airport) after...</td>\n",
       "      <td>1.327986</td>\n",
       "      <td>103.824782</td>\n",
       "    </tr>\n",
       "    <tr>\n",
       "      <th>1</th>\n",
       "      <td>Vehicle breakdown</td>\n",
       "      <td>2023-01-22 17:00:59</td>\n",
       "      <td>2023-01-22 18:14:36</td>\n",
       "      <td>Vehicle breakdown on KJE (towards BKE) after C...</td>\n",
       "      <td>1.383928</td>\n",
       "      <td>103.738290</td>\n",
       "    </tr>\n",
       "    <tr>\n",
       "      <th>2</th>\n",
       "      <td>Vehicle breakdown</td>\n",
       "      <td>2023-01-22 17:00:51</td>\n",
       "      <td>2023-01-22 18:14:36</td>\n",
       "      <td>Vehicle breakdown on SLE (towards BKE) after U...</td>\n",
       "      <td>1.405386</td>\n",
       "      <td>103.809720</td>\n",
       "    </tr>\n",
       "    <tr>\n",
       "      <th>3</th>\n",
       "      <td>Accident</td>\n",
       "      <td>2023-01-22 16:00:37</td>\n",
       "      <td>2023-01-22 18:14:36</td>\n",
       "      <td>Accident on PIE (towards Tuas) after Stevens R...</td>\n",
       "      <td>1.327868</td>\n",
       "      <td>103.824831</td>\n",
       "    </tr>\n",
       "  </tbody>\n",
       "</table>\n",
       "</div>"
      ],
      "text/plain": [
       "                Type     Date_Time_Start        Date_Time_End  \\\n",
       "0           Accident 2023-01-22 18:00:11  2023-01-22 18:14:36   \n",
       "1  Vehicle breakdown 2023-01-22 17:00:59  2023-01-22 18:14:36   \n",
       "2  Vehicle breakdown 2023-01-22 17:00:51  2023-01-22 18:14:36   \n",
       "3           Accident 2023-01-22 16:00:37  2023-01-22 18:14:36   \n",
       "\n",
       "                                             Message  Latitude   Longitude  \n",
       "0  Accident on PIE (towards Changi Airport) after...  1.327986  103.824782  \n",
       "1  Vehicle breakdown on KJE (towards BKE) after C...  1.383928  103.738290  \n",
       "2  Vehicle breakdown on SLE (towards BKE) after U...  1.405386  103.809720  \n",
       "3  Accident on PIE (towards Tuas) after Stevens R...  1.327868  103.824831  "
      ]
     },
     "execution_count": 86,
     "metadata": {},
     "output_type": "execute_result"
    }
   ],
   "source": [
    "temp = temp[~check_active] #Inverse to keep only those that are expired, i.e. incident is resolved and is not active\n",
    "temp[\"Date_Time_End\"] = dt.strftime(format = \"%Y-%m-%d %H:%M:%S\")\n",
    "temp = temp[[\"Type\", \"Date_Time_Start\", \"Date_Time_End\", \"Message\", \"Latitude\", \"Longitude\"]]\n",
    "temp"
   ]
  },
  {
   "cell_type": "code",
   "execution_count": 88,
   "id": "78ecc6e8",
   "metadata": {},
   "outputs": [
    {
     "data": {
      "text/html": [
       "<div>\n",
       "<style scoped>\n",
       "    .dataframe tbody tr th:only-of-type {\n",
       "        vertical-align: middle;\n",
       "    }\n",
       "\n",
       "    .dataframe tbody tr th {\n",
       "        vertical-align: top;\n",
       "    }\n",
       "\n",
       "    .dataframe thead th {\n",
       "        text-align: right;\n",
       "    }\n",
       "</style>\n",
       "<table border=\"1\" class=\"dataframe\">\n",
       "  <thead>\n",
       "    <tr style=\"text-align: right;\">\n",
       "      <th></th>\n",
       "      <th>Type</th>\n",
       "      <th>Date_Time_Start</th>\n",
       "      <th>Date_Time_End</th>\n",
       "      <th>Message</th>\n",
       "      <th>Latitude</th>\n",
       "      <th>Longitude</th>\n",
       "      <th>key</th>\n",
       "    </tr>\n",
       "  </thead>\n",
       "  <tbody>\n",
       "    <tr>\n",
       "      <th>4</th>\n",
       "      <td>Heavy Traffic</td>\n",
       "      <td>2023-01-22 14:00:08</td>\n",
       "      <td>Nil</td>\n",
       "      <td>Heavy Traffic on CTE (towards AYE) at PIE(Chan...</td>\n",
       "      <td>1.344612</td>\n",
       "      <td>103.860143</td>\n",
       "      <td>Heavy Traffic Heavy Traffic on CTE (towards AY...</td>\n",
       "    </tr>\n",
       "  </tbody>\n",
       "</table>\n",
       "</div>"
      ],
      "text/plain": [
       "            Type     Date_Time_Start Date_Time_End  \\\n",
       "4  Heavy Traffic 2023-01-22 14:00:08           Nil   \n",
       "\n",
       "                                             Message  Latitude   Longitude  \\\n",
       "4  Heavy Traffic on CTE (towards AYE) at PIE(Chan...  1.344612  103.860143   \n",
       "\n",
       "                                                 key  \n",
       "4  Heavy Traffic Heavy Traffic on CTE (towards AY...  "
      ]
     },
     "execution_count": 88,
     "metadata": {},
     "output_type": "execute_result"
    }
   ],
   "source": []
  },
  {
   "cell_type": "markdown",
   "id": "bfb3cdc4",
   "metadata": {},
   "source": [
    "## For Testing and Subsequent Wring"
   ]
  },
  {
   "cell_type": "code",
   "execution_count": 92,
   "id": "b65d14de",
   "metadata": {},
   "outputs": [
    {
     "ename": "SyntaxError",
     "evalue": "invalid syntax (2509452883.py, line 1)",
     "output_type": "error",
     "traceback": [
      "\u001b[0;36m  File \u001b[0;32m\"/var/folders/rm/cf7ctnjs79ddm4n3_4wkw5_m0000gn/T/ipykernel_17013/2509452883.py\"\u001b[0;36m, line \u001b[0;32m1\u001b[0m\n\u001b[0;31m    datetime.(1674596640000)\u001b[0m\n\u001b[0m             ^\u001b[0m\n\u001b[0;31mSyntaxError\u001b[0m\u001b[0;31m:\u001b[0m invalid syntax\n"
     ]
    }
   ],
   "source": [
    "datetime.(1674596640000)"
   ]
  },
  {
   "cell_type": "code",
   "execution_count": 120,
   "id": "cd75b9c0",
   "metadata": {},
   "outputs": [
    {
     "data": {
      "text/html": [
       "<div>\n",
       "<style scoped>\n",
       "    .dataframe tbody tr th:only-of-type {\n",
       "        vertical-align: middle;\n",
       "    }\n",
       "\n",
       "    .dataframe tbody tr th {\n",
       "        vertical-align: top;\n",
       "    }\n",
       "\n",
       "    .dataframe thead th {\n",
       "        text-align: right;\n",
       "    }\n",
       "</style>\n",
       "<table border=\"1\" class=\"dataframe\">\n",
       "  <thead>\n",
       "    <tr style=\"text-align: right;\">\n",
       "      <th></th>\n",
       "      <th>Type</th>\n",
       "      <th>Date_Time</th>\n",
       "      <th>Message</th>\n",
       "      <th>Latitude</th>\n",
       "      <th>Longitude</th>\n",
       "    </tr>\n",
       "  </thead>\n",
       "  <tbody>\n",
       "  </tbody>\n",
       "</table>\n",
       "</div>"
      ],
      "text/plain": [
       "Empty DataFrame\n",
       "Columns: [Type, Date_Time, Message, Latitude, Longitude]\n",
       "Index: []"
      ]
     },
     "execution_count": 120,
     "metadata": {},
     "output_type": "execute_result"
    }
   ],
   "source": [
    "# Converting to JSON for Writing to Cloud\n",
    "df_tocloud = df_tocloud.to_json()\n",
    "\n",
    "\n",
    "# Reading from Cloud\n",
    "import json\n",
    "df_raw = json.loads(df_tocloud)\n",
    "df_local = pd.DataFrame(df_raw)\n",
    "df_local"
   ]
  },
  {
   "cell_type": "code",
   "execution_count": 93,
   "id": "6149201f",
   "metadata": {},
   "outputs": [
    {
     "data": {
      "text/html": [
       "<div>\n",
       "<style scoped>\n",
       "    .dataframe tbody tr th:only-of-type {\n",
       "        vertical-align: middle;\n",
       "    }\n",
       "\n",
       "    .dataframe tbody tr th {\n",
       "        vertical-align: top;\n",
       "    }\n",
       "\n",
       "    .dataframe thead th {\n",
       "        text-align: right;\n",
       "    }\n",
       "</style>\n",
       "<table border=\"1\" class=\"dataframe\">\n",
       "  <thead>\n",
       "    <tr style=\"text-align: right;\">\n",
       "      <th></th>\n",
       "      <th>Type</th>\n",
       "      <th>Latitude</th>\n",
       "      <th>Longitude</th>\n",
       "      <th>Message</th>\n",
       "    </tr>\n",
       "  </thead>\n",
       "  <tbody>\n",
       "    <tr>\n",
       "      <th>0</th>\n",
       "      <td>Vehicle breakdown</td>\n",
       "      <td>1.295601</td>\n",
       "      <td>103.892536</td>\n",
       "      <td>(24/1)22:13 Vehicle breakdown on ECP (towards ...</td>\n",
       "    </tr>\n",
       "    <tr>\n",
       "      <th>1</th>\n",
       "      <td>Roadwork</td>\n",
       "      <td>1.311912</td>\n",
       "      <td>103.803815</td>\n",
       "      <td>(24/1)21:56 Roadworks on Farrer Road (towards ...</td>\n",
       "    </tr>\n",
       "    <tr>\n",
       "      <th>2</th>\n",
       "      <td>Vehicle breakdown</td>\n",
       "      <td>1.412663</td>\n",
       "      <td>103.806420</td>\n",
       "      <td>(24/1)21:55 Vehicle breakdown on SLE (towards ...</td>\n",
       "    </tr>\n",
       "    <tr>\n",
       "      <th>3</th>\n",
       "      <td>Roadwork</td>\n",
       "      <td>1.348464</td>\n",
       "      <td>103.792167</td>\n",
       "      <td>(24/1)21:31 Roadworks on BKE (towards PIE) bef...</td>\n",
       "    </tr>\n",
       "    <tr>\n",
       "      <th>4</th>\n",
       "      <td>Obstacle</td>\n",
       "      <td>1.398875</td>\n",
       "      <td>103.898714</td>\n",
       "      <td>(24/1)20:43 Obstacle on TPE (towards SLE) at P...</td>\n",
       "    </tr>\n",
       "  </tbody>\n",
       "</table>\n",
       "</div>"
      ],
      "text/plain": [
       "                Type  Latitude   Longitude  \\\n",
       "0  Vehicle breakdown  1.295601  103.892536   \n",
       "1           Roadwork  1.311912  103.803815   \n",
       "2  Vehicle breakdown  1.412663  103.806420   \n",
       "3           Roadwork  1.348464  103.792167   \n",
       "4           Obstacle  1.398875  103.898714   \n",
       "\n",
       "                                             Message  \n",
       "0  (24/1)22:13 Vehicle breakdown on ECP (towards ...  \n",
       "1  (24/1)21:56 Roadworks on Farrer Road (towards ...  \n",
       "2  (24/1)21:55 Vehicle breakdown on SLE (towards ...  \n",
       "3  (24/1)21:31 Roadworks on BKE (towards PIE) bef...  \n",
       "4  (24/1)20:43 Obstacle on TPE (towards SLE) at P...  "
      ]
     },
     "execution_count": 93,
     "metadata": {},
     "output_type": "execute_result"
    }
   ],
   "source": []
  },
  {
   "cell_type": "code",
   "execution_count": null,
   "id": "c195ec20",
   "metadata": {},
   "outputs": [],
   "source": []
  }
 ],
 "metadata": {
  "kernelspec": {
   "display_name": "Python 3 (ipykernel)",
   "language": "python",
   "name": "python3"
  },
  "language_info": {
   "codemirror_mode": {
    "name": "ipython",
    "version": 3
   },
   "file_extension": ".py",
   "mimetype": "text/x-python",
   "name": "python",
   "nbconvert_exporter": "python",
   "pygments_lexer": "ipython3",
   "version": "3.9.13"
  }
 },
 "nbformat": 4,
 "nbformat_minor": 5
}
